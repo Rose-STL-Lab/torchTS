{
 "cells": [
  {
   "cell_type": "code",
   "execution_count": 1,
   "metadata": {},
   "outputs": [],
   "source": [
    "import scipy.io\n",
    "\n",
    "dataset = scipy.io.loadmat(\"Lorenz63Data.mat\")['x']"
   ]
  },
  {
   "cell_type": "code",
   "execution_count": 2,
   "metadata": {},
   "outputs": [
    {
     "output_type": "execute_result",
     "data": {
      "text/plain": [
       "array([[ 1.00000000e+00,  9.17927510e-01,  8.67924268e-01, ...,\n",
       "        -6.77990147e+00, -7.12556121e+00, -7.49034267e+00],\n",
       "       [ 0.00000000e+00,  2.66335809e-01,  5.11733691e-01, ...,\n",
       "        -1.01378640e+01, -1.06794452e+01, -1.12300516e+01],\n",
       "       [ 0.00000000e+00,  1.26355130e-03,  4.65403217e-03, ...,\n",
       "         1.86069492e+01,  1.88253706e+01,  1.91138805e+01]])"
      ]
     },
     "metadata": {},
     "execution_count": 2
    }
   ],
   "source": [
    "dataset"
   ]
  },
  {
   "cell_type": "code",
   "execution_count": null,
   "metadata": {},
   "outputs": [],
   "source": []
  }
 ],
 "metadata": {
  "kernelspec": {
   "name": "python3",
   "display_name": "Python 3.7.7 64-bit ('base': conda)"
  },
  "language_info": {
   "codemirror_mode": {
    "name": "ipython",
    "version": 3
   },
   "file_extension": ".py",
   "mimetype": "text/x-python",
   "name": "python",
   "nbconvert_exporter": "python",
   "pygments_lexer": "ipython3",
   "version": "3.7.7"
  },
  "interpreter": {
   "hash": "dca0ade3e726a953b501b15e8e990130d2b7799f14cfd9f4271676035ebe5511"
  }
 },
 "nbformat": 4,
 "nbformat_minor": 2
}