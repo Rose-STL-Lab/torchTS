{
 "cells": [
  {
   "cell_type": "code",
   "execution_count": 2,
   "metadata": {},
   "outputs": [],
   "source": [
    "import scipy.io\n",
    "\n",
    "dataset = scipy.io.loadmat(\"Lorenz63Data.mat\")['x']"
   ]
  },
  {
   "cell_type": "code",
   "execution_count": 3,
   "metadata": {},
   "outputs": [
    {
     "output_type": "execute_result",
     "data": {
      "text/plain": [
       "array([[ 1.00000000e+00,  9.17927510e-01,  8.67924268e-01, ...,\n",
       "        -6.77990147e+00, -7.12556121e+00, -7.49034267e+00],\n",
       "       [ 0.00000000e+00,  2.66335809e-01,  5.11733691e-01, ...,\n",
       "        -1.01378640e+01, -1.06794452e+01, -1.12300516e+01],\n",
       "       [ 0.00000000e+00,  1.26355130e-03,  4.65403217e-03, ...,\n",
       "         1.86069492e+01,  1.88253706e+01,  1.91138805e+01]])"
      ]
     },
     "metadata": {},
     "execution_count": 3
    }
   ],
   "source": [
    "dataset"
   ]
  },
  {
   "cell_type": "code",
   "execution_count": 7,
   "metadata": {},
   "outputs": [],
   "source": [
    "import os\n",
    "os.chdir(\"../../../\")"
   ]
  },
  {
   "cell_type": "code",
   "execution_count": 10,
   "metadata": {},
   "outputs": [],
   "source": [
    "from torchts.nn.models.ode import ODESolver\n",
    "# from torchts.nn.model import TimeSeriesModel"
   ]
  },
  {
   "cell_type": "code",
   "execution_count": null,
   "metadata": {},
   "outputs": [],
   "source": []
  }
 ],
 "metadata": {
  "kernelspec": {
   "name": "python3",
   "display_name": "Python 3.9.6 64-bit ('torchTS': conda)"
  },
  "language_info": {
   "codemirror_mode": {
    "name": "ipython",
    "version": 3
   },
   "file_extension": ".py",
   "mimetype": "text/x-python",
   "name": "python",
   "nbconvert_exporter": "python",
   "pygments_lexer": "ipython3",
   "version": "3.9.6"
  },
  "interpreter": {
   "hash": "ff850aa56af9adbd63a8c19b31d292a54ba02470d4346286a8590995083eda9d"
  }
 },
 "nbformat": 4,
 "nbformat_minor": 2
}