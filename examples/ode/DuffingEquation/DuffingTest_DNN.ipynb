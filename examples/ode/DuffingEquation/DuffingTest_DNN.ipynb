{
  "nbformat": 4,
  "nbformat_minor": 0,
  "metadata": {
    "colab": {
      "name": "DuffingTest_DNN.ipynb",
      "provenance": [],
      "toc_visible": true
    },
    "kernelspec": {
      "name": "python3",
      "display_name": "Python 3"
    },
    "language_info": {
      "name": "python"
    }
  },
  "cells": [
    {
      "cell_type": "code",
      "metadata": {
        "colab": {
          "base_uri": "https://localhost:8080/"
        },
        "id": "5Z8Z-OzS6Z-G",
        "outputId": "f83e0d3c-fb76-4938-8aac-3e01134a1969"
      },
      "source": [
        "!pip install pytorch_lightning"
      ],
      "execution_count": 1,
      "outputs": [
        {
          "output_type": "stream",
          "name": "stdout",
          "text": [
            "Collecting pytorch_lightning\n",
            "  Downloading pytorch_lightning-1.4.9-py3-none-any.whl (925 kB)\n",
            "\u001b[?25l\r\u001b[K     |▍                               | 10 kB 21.7 MB/s eta 0:00:01\r\u001b[K     |▊                               | 20 kB 16.9 MB/s eta 0:00:01\r\u001b[K     |█                               | 30 kB 20.8 MB/s eta 0:00:01\r\u001b[K     |█▍                              | 40 kB 13.1 MB/s eta 0:00:01\r\u001b[K     |█▊                              | 51 kB 10.1 MB/s eta 0:00:01\r\u001b[K     |██▏                             | 61 kB 8.4 MB/s eta 0:00:01\r\u001b[K     |██▌                             | 71 kB 7.8 MB/s eta 0:00:01\r\u001b[K     |██▉                             | 81 kB 8.5 MB/s eta 0:00:01\r\u001b[K     |███▏                            | 92 kB 7.8 MB/s eta 0:00:01\r\u001b[K     |███▌                            | 102 kB 8.4 MB/s eta 0:00:01\r\u001b[K     |████                            | 112 kB 8.4 MB/s eta 0:00:01\r\u001b[K     |████▎                           | 122 kB 8.4 MB/s eta 0:00:01\r\u001b[K     |████▋                           | 133 kB 8.4 MB/s eta 0:00:01\r\u001b[K     |█████                           | 143 kB 8.4 MB/s eta 0:00:01\r\u001b[K     |█████▎                          | 153 kB 8.4 MB/s eta 0:00:01\r\u001b[K     |█████▋                          | 163 kB 8.4 MB/s eta 0:00:01\r\u001b[K     |██████                          | 174 kB 8.4 MB/s eta 0:00:01\r\u001b[K     |██████▍                         | 184 kB 8.4 MB/s eta 0:00:01\r\u001b[K     |██████▊                         | 194 kB 8.4 MB/s eta 0:00:01\r\u001b[K     |███████                         | 204 kB 8.4 MB/s eta 0:00:01\r\u001b[K     |███████▍                        | 215 kB 8.4 MB/s eta 0:00:01\r\u001b[K     |███████▉                        | 225 kB 8.4 MB/s eta 0:00:01\r\u001b[K     |████████▏                       | 235 kB 8.4 MB/s eta 0:00:01\r\u001b[K     |████████▌                       | 245 kB 8.4 MB/s eta 0:00:01\r\u001b[K     |████████▉                       | 256 kB 8.4 MB/s eta 0:00:01\r\u001b[K     |█████████▏                      | 266 kB 8.4 MB/s eta 0:00:01\r\u001b[K     |█████████▋                      | 276 kB 8.4 MB/s eta 0:00:01\r\u001b[K     |██████████                      | 286 kB 8.4 MB/s eta 0:00:01\r\u001b[K     |██████████▎                     | 296 kB 8.4 MB/s eta 0:00:01\r\u001b[K     |██████████▋                     | 307 kB 8.4 MB/s eta 0:00:01\r\u001b[K     |███████████                     | 317 kB 8.4 MB/s eta 0:00:01\r\u001b[K     |███████████▎                    | 327 kB 8.4 MB/s eta 0:00:01\r\u001b[K     |███████████▊                    | 337 kB 8.4 MB/s eta 0:00:01\r\u001b[K     |████████████                    | 348 kB 8.4 MB/s eta 0:00:01\r\u001b[K     |████████████▍                   | 358 kB 8.4 MB/s eta 0:00:01\r\u001b[K     |████████████▊                   | 368 kB 8.4 MB/s eta 0:00:01\r\u001b[K     |█████████████                   | 378 kB 8.4 MB/s eta 0:00:01\r\u001b[K     |█████████████▌                  | 389 kB 8.4 MB/s eta 0:00:01\r\u001b[K     |█████████████▉                  | 399 kB 8.4 MB/s eta 0:00:01\r\u001b[K     |██████████████▏                 | 409 kB 8.4 MB/s eta 0:00:01\r\u001b[K     |██████████████▌                 | 419 kB 8.4 MB/s eta 0:00:01\r\u001b[K     |██████████████▉                 | 430 kB 8.4 MB/s eta 0:00:01\r\u001b[K     |███████████████▏                | 440 kB 8.4 MB/s eta 0:00:01\r\u001b[K     |███████████████▋                | 450 kB 8.4 MB/s eta 0:00:01\r\u001b[K     |████████████████                | 460 kB 8.4 MB/s eta 0:00:01\r\u001b[K     |████████████████▎               | 471 kB 8.4 MB/s eta 0:00:01\r\u001b[K     |████████████████▋               | 481 kB 8.4 MB/s eta 0:00:01\r\u001b[K     |█████████████████               | 491 kB 8.4 MB/s eta 0:00:01\r\u001b[K     |█████████████████▍              | 501 kB 8.4 MB/s eta 0:00:01\r\u001b[K     |█████████████████▊              | 512 kB 8.4 MB/s eta 0:00:01\r\u001b[K     |██████████████████              | 522 kB 8.4 MB/s eta 0:00:01\r\u001b[K     |██████████████████▍             | 532 kB 8.4 MB/s eta 0:00:01\r\u001b[K     |██████████████████▊             | 542 kB 8.4 MB/s eta 0:00:01\r\u001b[K     |███████████████████▏            | 552 kB 8.4 MB/s eta 0:00:01\r\u001b[K     |███████████████████▌            | 563 kB 8.4 MB/s eta 0:00:01\r\u001b[K     |███████████████████▉            | 573 kB 8.4 MB/s eta 0:00:01\r\u001b[K     |████████████████████▏           | 583 kB 8.4 MB/s eta 0:00:01\r\u001b[K     |████████████████████▌           | 593 kB 8.4 MB/s eta 0:00:01\r\u001b[K     |████████████████████▉           | 604 kB 8.4 MB/s eta 0:00:01\r\u001b[K     |█████████████████████▎          | 614 kB 8.4 MB/s eta 0:00:01\r\u001b[K     |█████████████████████▋          | 624 kB 8.4 MB/s eta 0:00:01\r\u001b[K     |██████████████████████          | 634 kB 8.4 MB/s eta 0:00:01\r\u001b[K     |██████████████████████▎         | 645 kB 8.4 MB/s eta 0:00:01\r\u001b[K     |██████████████████████▋         | 655 kB 8.4 MB/s eta 0:00:01\r\u001b[K     |███████████████████████         | 665 kB 8.4 MB/s eta 0:00:01\r\u001b[K     |███████████████████████▍        | 675 kB 8.4 MB/s eta 0:00:01\r\u001b[K     |███████████████████████▊        | 686 kB 8.4 MB/s eta 0:00:01\r\u001b[K     |████████████████████████        | 696 kB 8.4 MB/s eta 0:00:01\r\u001b[K     |████████████████████████▍       | 706 kB 8.4 MB/s eta 0:00:01\r\u001b[K     |████████████████████████▊       | 716 kB 8.4 MB/s eta 0:00:01\r\u001b[K     |█████████████████████████▏      | 727 kB 8.4 MB/s eta 0:00:01\r\u001b[K     |█████████████████████████▌      | 737 kB 8.4 MB/s eta 0:00:01\r\u001b[K     |█████████████████████████▉      | 747 kB 8.4 MB/s eta 0:00:01\r\u001b[K     |██████████████████████████▏     | 757 kB 8.4 MB/s eta 0:00:01\r\u001b[K     |██████████████████████████▌     | 768 kB 8.4 MB/s eta 0:00:01\r\u001b[K     |███████████████████████████     | 778 kB 8.4 MB/s eta 0:00:01\r\u001b[K     |███████████████████████████▎    | 788 kB 8.4 MB/s eta 0:00:01\r\u001b[K     |███████████████████████████▋    | 798 kB 8.4 MB/s eta 0:00:01\r\u001b[K     |████████████████████████████    | 808 kB 8.4 MB/s eta 0:00:01\r\u001b[K     |████████████████████████████▎   | 819 kB 8.4 MB/s eta 0:00:01\r\u001b[K     |████████████████████████████▊   | 829 kB 8.4 MB/s eta 0:00:01\r\u001b[K     |█████████████████████████████   | 839 kB 8.4 MB/s eta 0:00:01\r\u001b[K     |█████████████████████████████▍  | 849 kB 8.4 MB/s eta 0:00:01\r\u001b[K     |█████████████████████████████▊  | 860 kB 8.4 MB/s eta 0:00:01\r\u001b[K     |██████████████████████████████  | 870 kB 8.4 MB/s eta 0:00:01\r\u001b[K     |██████████████████████████████▍ | 880 kB 8.4 MB/s eta 0:00:01\r\u001b[K     |██████████████████████████████▉ | 890 kB 8.4 MB/s eta 0:00:01\r\u001b[K     |███████████████████████████████▏| 901 kB 8.4 MB/s eta 0:00:01\r\u001b[K     |███████████████████████████████▌| 911 kB 8.4 MB/s eta 0:00:01\r\u001b[K     |███████████████████████████████▉| 921 kB 8.4 MB/s eta 0:00:01\r\u001b[K     |████████████████████████████████| 925 kB 8.4 MB/s \n",
            "\u001b[?25hCollecting pyDeprecate==0.3.1\n",
            "  Downloading pyDeprecate-0.3.1-py3-none-any.whl (10 kB)\n",
            "Requirement already satisfied: tqdm>=4.41.0 in /usr/local/lib/python3.7/dist-packages (from pytorch_lightning) (4.62.3)\n",
            "Collecting PyYAML>=5.1\n",
            "  Downloading PyYAML-6.0-cp37-cp37m-manylinux_2_5_x86_64.manylinux1_x86_64.manylinux_2_12_x86_64.manylinux2010_x86_64.whl (596 kB)\n",
            "\u001b[K     |████████████████████████████████| 596 kB 39.5 MB/s \n",
            "\u001b[?25hRequirement already satisfied: torch>=1.6 in /usr/local/lib/python3.7/dist-packages (from pytorch_lightning) (1.9.0+cu111)\n",
            "Requirement already satisfied: numpy>=1.17.2 in /usr/local/lib/python3.7/dist-packages (from pytorch_lightning) (1.19.5)\n",
            "Collecting torchmetrics>=0.4.0\n",
            "  Downloading torchmetrics-0.5.1-py3-none-any.whl (282 kB)\n",
            "\u001b[K     |████████████████████████████████| 282 kB 51.8 MB/s \n",
            "\u001b[?25hCollecting fsspec[http]!=2021.06.0,>=2021.05.0\n",
            "  Downloading fsspec-2021.10.1-py3-none-any.whl (125 kB)\n",
            "\u001b[K     |████████████████████████████████| 125 kB 36.6 MB/s \n",
            "\u001b[?25hRequirement already satisfied: packaging>=17.0 in /usr/local/lib/python3.7/dist-packages (from pytorch_lightning) (21.0)\n",
            "Requirement already satisfied: typing-extensions in /usr/local/lib/python3.7/dist-packages (from pytorch_lightning) (3.7.4.3)\n",
            "Requirement already satisfied: tensorboard>=2.2.0 in /usr/local/lib/python3.7/dist-packages (from pytorch_lightning) (2.6.0)\n",
            "Collecting future>=0.17.1\n",
            "  Downloading future-0.18.2.tar.gz (829 kB)\n",
            "\u001b[K     |████████████████████████████████| 829 kB 20.7 MB/s \n",
            "\u001b[?25hCollecting aiohttp\n",
            "  Downloading aiohttp-3.7.4.post0-cp37-cp37m-manylinux2014_x86_64.whl (1.3 MB)\n",
            "\u001b[K     |████████████████████████████████| 1.3 MB 40.5 MB/s \n",
            "\u001b[?25hRequirement already satisfied: requests in /usr/local/lib/python3.7/dist-packages (from fsspec[http]!=2021.06.0,>=2021.05.0->pytorch_lightning) (2.23.0)\n",
            "Requirement already satisfied: pyparsing>=2.0.2 in /usr/local/lib/python3.7/dist-packages (from packaging>=17.0->pytorch_lightning) (2.4.7)\n",
            "Requirement already satisfied: markdown>=2.6.8 in /usr/local/lib/python3.7/dist-packages (from tensorboard>=2.2.0->pytorch_lightning) (3.3.4)\n",
            "Requirement already satisfied: absl-py>=0.4 in /usr/local/lib/python3.7/dist-packages (from tensorboard>=2.2.0->pytorch_lightning) (0.12.0)\n",
            "Requirement already satisfied: grpcio>=1.24.3 in /usr/local/lib/python3.7/dist-packages (from tensorboard>=2.2.0->pytorch_lightning) (1.41.0)\n",
            "Requirement already satisfied: tensorboard-plugin-wit>=1.6.0 in /usr/local/lib/python3.7/dist-packages (from tensorboard>=2.2.0->pytorch_lightning) (1.8.0)\n",
            "Requirement already satisfied: google-auth<2,>=1.6.3 in /usr/local/lib/python3.7/dist-packages (from tensorboard>=2.2.0->pytorch_lightning) (1.35.0)\n",
            "Requirement already satisfied: setuptools>=41.0.0 in /usr/local/lib/python3.7/dist-packages (from tensorboard>=2.2.0->pytorch_lightning) (57.4.0)\n",
            "Requirement already satisfied: werkzeug>=0.11.15 in /usr/local/lib/python3.7/dist-packages (from tensorboard>=2.2.0->pytorch_lightning) (1.0.1)\n",
            "Requirement already satisfied: wheel>=0.26 in /usr/local/lib/python3.7/dist-packages (from tensorboard>=2.2.0->pytorch_lightning) (0.37.0)\n",
            "Requirement already satisfied: google-auth-oauthlib<0.5,>=0.4.1 in /usr/local/lib/python3.7/dist-packages (from tensorboard>=2.2.0->pytorch_lightning) (0.4.6)\n",
            "Requirement already satisfied: tensorboard-data-server<0.7.0,>=0.6.0 in /usr/local/lib/python3.7/dist-packages (from tensorboard>=2.2.0->pytorch_lightning) (0.6.1)\n",
            "Requirement already satisfied: protobuf>=3.6.0 in /usr/local/lib/python3.7/dist-packages (from tensorboard>=2.2.0->pytorch_lightning) (3.17.3)\n",
            "Requirement already satisfied: six in /usr/local/lib/python3.7/dist-packages (from absl-py>=0.4->tensorboard>=2.2.0->pytorch_lightning) (1.15.0)\n",
            "Requirement already satisfied: rsa<5,>=3.1.4 in /usr/local/lib/python3.7/dist-packages (from google-auth<2,>=1.6.3->tensorboard>=2.2.0->pytorch_lightning) (4.7.2)\n",
            "Requirement already satisfied: cachetools<5.0,>=2.0.0 in /usr/local/lib/python3.7/dist-packages (from google-auth<2,>=1.6.3->tensorboard>=2.2.0->pytorch_lightning) (4.2.4)\n",
            "Requirement already satisfied: pyasn1-modules>=0.2.1 in /usr/local/lib/python3.7/dist-packages (from google-auth<2,>=1.6.3->tensorboard>=2.2.0->pytorch_lightning) (0.2.8)\n",
            "Requirement already satisfied: requests-oauthlib>=0.7.0 in /usr/local/lib/python3.7/dist-packages (from google-auth-oauthlib<0.5,>=0.4.1->tensorboard>=2.2.0->pytorch_lightning) (1.3.0)\n",
            "Requirement already satisfied: importlib-metadata in /usr/local/lib/python3.7/dist-packages (from markdown>=2.6.8->tensorboard>=2.2.0->pytorch_lightning) (4.8.1)\n",
            "Requirement already satisfied: pyasn1<0.5.0,>=0.4.6 in /usr/local/lib/python3.7/dist-packages (from pyasn1-modules>=0.2.1->google-auth<2,>=1.6.3->tensorboard>=2.2.0->pytorch_lightning) (0.4.8)\n",
            "Requirement already satisfied: certifi>=2017.4.17 in /usr/local/lib/python3.7/dist-packages (from requests->fsspec[http]!=2021.06.0,>=2021.05.0->pytorch_lightning) (2021.5.30)\n",
            "Requirement already satisfied: chardet<4,>=3.0.2 in /usr/local/lib/python3.7/dist-packages (from requests->fsspec[http]!=2021.06.0,>=2021.05.0->pytorch_lightning) (3.0.4)\n",
            "Requirement already satisfied: urllib3!=1.25.0,!=1.25.1,<1.26,>=1.21.1 in /usr/local/lib/python3.7/dist-packages (from requests->fsspec[http]!=2021.06.0,>=2021.05.0->pytorch_lightning) (1.24.3)\n",
            "Requirement already satisfied: idna<3,>=2.5 in /usr/local/lib/python3.7/dist-packages (from requests->fsspec[http]!=2021.06.0,>=2021.05.0->pytorch_lightning) (2.10)\n",
            "Requirement already satisfied: oauthlib>=3.0.0 in /usr/local/lib/python3.7/dist-packages (from requests-oauthlib>=0.7.0->google-auth-oauthlib<0.5,>=0.4.1->tensorboard>=2.2.0->pytorch_lightning) (3.1.1)\n",
            "Requirement already satisfied: attrs>=17.3.0 in /usr/local/lib/python3.7/dist-packages (from aiohttp->fsspec[http]!=2021.06.0,>=2021.05.0->pytorch_lightning) (21.2.0)\n",
            "Collecting yarl<2.0,>=1.0\n",
            "  Downloading yarl-1.7.0-cp37-cp37m-manylinux_2_5_x86_64.manylinux1_x86_64.manylinux_2_12_x86_64.manylinux2010_x86_64.whl (271 kB)\n",
            "\u001b[K     |████████████████████████████████| 271 kB 68.3 MB/s \n",
            "\u001b[?25hCollecting multidict<7.0,>=4.5\n",
            "  Downloading multidict-5.2.0-cp37-cp37m-manylinux_2_5_x86_64.manylinux1_x86_64.manylinux_2_12_x86_64.manylinux2010_x86_64.whl (160 kB)\n",
            "\u001b[K     |████████████████████████████████| 160 kB 67.3 MB/s \n",
            "\u001b[?25hCollecting async-timeout<4.0,>=3.0\n",
            "  Downloading async_timeout-3.0.1-py3-none-any.whl (8.2 kB)\n",
            "Requirement already satisfied: zipp>=0.5 in /usr/local/lib/python3.7/dist-packages (from importlib-metadata->markdown>=2.6.8->tensorboard>=2.2.0->pytorch_lightning) (3.6.0)\n",
            "Building wheels for collected packages: future\n",
            "  Building wheel for future (setup.py) ... \u001b[?25l\u001b[?25hdone\n",
            "  Created wheel for future: filename=future-0.18.2-py3-none-any.whl size=491070 sha256=8c063018aa301dc492d85fbe4044ef8bf855372d849f3b6f40c44a7b52ea1f17\n",
            "  Stored in directory: /root/.cache/pip/wheels/56/b0/fe/4410d17b32f1f0c3cf54cdfb2bc04d7b4b8f4ae377e2229ba0\n",
            "Successfully built future\n",
            "Installing collected packages: multidict, yarl, async-timeout, fsspec, aiohttp, torchmetrics, PyYAML, pyDeprecate, future, pytorch-lightning\n",
            "  Attempting uninstall: PyYAML\n",
            "    Found existing installation: PyYAML 3.13\n",
            "    Uninstalling PyYAML-3.13:\n",
            "      Successfully uninstalled PyYAML-3.13\n",
            "  Attempting uninstall: future\n",
            "    Found existing installation: future 0.16.0\n",
            "    Uninstalling future-0.16.0:\n",
            "      Successfully uninstalled future-0.16.0\n",
            "Successfully installed PyYAML-6.0 aiohttp-3.7.4.post0 async-timeout-3.0.1 fsspec-2021.10.1 future-0.18.2 multidict-5.2.0 pyDeprecate-0.3.1 pytorch-lightning-1.4.9 torchmetrics-0.5.1 yarl-1.7.0\n"
          ]
        }
      ]
    },
    {
      "cell_type": "code",
      "metadata": {
        "id": "zu5Sh81e6N9a"
      },
      "source": [
        "import torch\n",
        "from pytorch_lightning import LightningModule\n",
        "import torch.nn.functional as F\n",
        "from torch import nn\n",
        "from torch.utils.data import DataLoader, TensorDataset\n",
        "\n",
        "import matplotlib.pyplot as plt\n",
        "import mpl_toolkits.mplot3d.axes3d as p3"
      ],
      "execution_count": 2,
      "outputs": []
    },
    {
      "cell_type": "code",
      "metadata": {
        "id": "Pf5K_82g5blO"
      },
      "source": [
        "class ODEDNNSolver(LightningModule):\n",
        "    def __init__(\n",
        "        self, ode, init_vars, init_coeffs, dt, solver=\"euler\", outvar=None, **kwargs\n",
        "    ):\n",
        "        super().__init__(**kwargs)\n",
        "\n",
        "        if ode.keys() != init_vars.keys():\n",
        "            raise ValueError(\"Inconsistent keys in ode and init_vars\")\n",
        "\n",
        "        if solver == \"euler\":\n",
        "            self.step_solver = self.euler_step\n",
        "        elif solver == \"rk4\":\n",
        "            self.step_solver = self.runge_kutta_4_step\n",
        "        else:\n",
        "            raise ValueError(f\"Unrecognized solver {solver}\")\n",
        "\n",
        "        for name, value in init_coeffs.items():\n",
        "            self.register_parameter(name, nn.Parameter(torch.tensor(value)))\n",
        "        \n",
        "        self.ode = ode\n",
        "        self.var_names = ode.keys()\n",
        "        self.init_vars = {\n",
        "            name: torch.tensor(value, device=self.device)\n",
        "            for name, value in init_vars.items()\n",
        "        }\n",
        "        self.coeffs = {name: param for name, param in self.named_parameters()}\n",
        "\n",
        "        self.dnn = nn.Sequential(\n",
        "            nn.Linear(1,10),\n",
        "            nn.ReLU(),\n",
        "            nn.Linear(10,1),\n",
        "            nn.Tanh()\n",
        "        )\n",
        "\n",
        "        self.outvar = self.var_names if outvar is None else outvar\n",
        "        self.dt = dt\n",
        "        self.criterion = F.mse_loss\n",
        "\n",
        "    def euler_step(self, prev_val):\n",
        "        pred = {name: value.unsqueeze(0) for name, value in self.init_vars.items()}\n",
        "        for var in self.var_names:\n",
        "            pred[var] = prev_val[var] + self.ode[var](prev_val, self.coeffs, self.dnn) * self.dt\n",
        "        return pred\n",
        "\n",
        "    def runge_kutta_4_step(self, prev_val):\n",
        "        pred = {name: value.unsqueeze(0) for name, value in self.init_vars.items()}\n",
        "\n",
        "        k_1 = prev_val\n",
        "        k_2 = {}\n",
        "        k_3 = {}\n",
        "        k_4 = {}\n",
        "\n",
        "        for var in self.var_names:\n",
        "            k_2[var] = (\n",
        "                prev_val[var] + self.ode[var](prev_val, self.coeffs, self.dnn) * 0.5 * self.dt\n",
        "            )\n",
        "\n",
        "        for var in self.var_names:\n",
        "            k_3[var] = prev_val[var] + self.ode[var](k_2, self.coeffs, self.dnn) * 0.5 * self.dt\n",
        "\n",
        "        for var in self.var_names:\n",
        "            k_4[var] = prev_val[var] + self.ode[var](k_3, self.coeffs, self.dnn) * self.dt\n",
        "\n",
        "        for var in self.var_names:\n",
        "            result = self.ode[var](k_1, self.coeffs, self.dnn) / 6\n",
        "            result += self.ode[var](k_2, self.coeffs, self.dnn) / 3\n",
        "            result += self.ode[var](k_3, self.coeffs, self.dnn) / 3\n",
        "            result += self.ode[var](k_4, self.coeffs, self.dnn) / 6\n",
        "            pred[var] = prev_val[var] + result * self.dt\n",
        "\n",
        "        return pred\n",
        "\n",
        "    def solver(self, nt):\n",
        "        pred = {name: value.unsqueeze(0) for name, value in self.init_vars.items()}\n",
        "\n",
        "        for n in range(nt - 1):\n",
        "            # create dictionary containing values from previous time step\n",
        "            prev_val = {var: pred[var][[n]] for var in self.var_names}\n",
        "            new_val = self.step_solver(prev_val)\n",
        "            for var in self.var_names:\n",
        "                pred[var] = torch.cat([pred[var], new_val[var]])\n",
        "\n",
        "        # reformat output to contain desired (observed) variables\n",
        "        return torch.stack([pred[var] for var in self.outvar], dim=1)\n",
        "\n",
        "    def forward(self, nt):\n",
        "        return self.solver(nt)\n",
        "\n",
        "    def get_coeffs(self):\n",
        "        return {name: param.item() for name, param in self.named_parameters()}\n",
        "\n",
        "    def fit(\n",
        "        self,\n",
        "        x,\n",
        "        optim,\n",
        "        optim_params=None,\n",
        "        max_epochs=10,\n",
        "        scheduler=None,\n",
        "        scheduler_params=None,\n",
        "    ):\n",
        "        \"\"\"Fits model to the given data by comparing the whole dataset\n",
        "        Args:\n",
        "            x (torch.Tensor): Original time series data\n",
        "            optim (torch.optim): Optimizer\n",
        "            optim_params: Optimizer parameters\n",
        "            max_epochs (int): Number of training epochs\n",
        "            scheduler (torch.optim.lr_scheduler): Learning rate scheduler\n",
        "            scheduler_params: Learning rate scheduler parameters\n",
        "        \"\"\"\n",
        "        dataset = TensorDataset(x)\n",
        "        n = dataset.__len__()\n",
        "        loader = DataLoader(dataset, batch_size=n)\n",
        "\n",
        "        if optim_params is not None:\n",
        "            optimizer = optim(self.parameters(), **optim_params)\n",
        "        else:\n",
        "            optimizer = optim(self.parameters())\n",
        "\n",
        "        if scheduler is not None:\n",
        "            if scheduler_params is not None:\n",
        "                lr_scheduler = scheduler(optimizer, **scheduler_params)\n",
        "            else:\n",
        "                lr_scheduler = scheduler(optimizer)\n",
        "\n",
        "        for epoch in range(max_epochs):\n",
        "            for i, data in enumerate(loader, 0):\n",
        "                self.zero_grad()\n",
        "                loss = self._step(data, i, n)\n",
        "                loss.backward(retain_graph=True)\n",
        "                optimizer.step()\n",
        "            if scheduler is not None:\n",
        "                lr_scheduler.step()\n",
        "\n",
        "            print(\"Epoch: \" + str(epoch) + \"\\t Loss: \" + str(loss))\n",
        "            print(self.coeffs)\n",
        "            # Testing to see that self.dnns changes\n",
        "            print(\"DNN(1)\", self.dnn(torch.Tensor([1.])))\n",
        "\n",
        "    def fit_random_sample(\n",
        "        self,\n",
        "        x,\n",
        "        optim,\n",
        "        optim_params=None,\n",
        "        max_epochs=10,\n",
        "        batch_size=64,\n",
        "        scheduler=None,\n",
        "        scheduler_params=None,\n",
        "    ):\n",
        "        \"\"\"Fits model to the given data by using random samples for each batch\n",
        "        Args:\n",
        "            x (torch.Tensor): Original time series data\n",
        "            optim (torch.optim): Optimizer\n",
        "            optim_params: Optimizer parameters\n",
        "            max_epochs (int): Number of training epochs\n",
        "            batch_size (int): Batch size for torch.utils.data.DataLoader\n",
        "            scheduler (torch.optim.lr_scheduler): Learning rate scheduler\n",
        "            scheduler_params: Learning rate scheduler parameters\n",
        "        \"\"\"\n",
        "        dataset = TensorDataset(x)\n",
        "        loader = DataLoader(dataset, batch_size=batch_size)\n",
        "\n",
        "        if optim_params is not None:\n",
        "            optimizer = optim(self.parameters(), **optim_params)\n",
        "        else:\n",
        "            optimizer = optim(self.parameters())\n",
        "\n",
        "        if scheduler is not None:\n",
        "            if scheduler_params is not None:\n",
        "                lr_scheduler = scheduler(optimizer, **scheduler_params)\n",
        "            else:\n",
        "                lr_scheduler = scheduler(optimizer)\n",
        "\n",
        "        for epoch in range(max_epochs):\n",
        "            for i, data in enumerate(loader, 0):\n",
        "                self.zero_grad()\n",
        "\n",
        "                n = data[0].shape[0]\n",
        "\n",
        "                if n < 3:\n",
        "                    continue\n",
        "\n",
        "                # Takes a random data point from \"data\"\n",
        "                ri = torch.randint(low=0, high=n - 2, size=()).item()\n",
        "                single_point = data[0][ri : ri + 1, :]\n",
        "                init_point = {\n",
        "                    var: single_point[0, i] for i, var in enumerate(self.var_names)\n",
        "                }\n",
        "\n",
        "                pred = {\n",
        "                    name: value.unsqueeze(0) for name, value in self.init_vars.items()\n",
        "                }\n",
        "\n",
        "                pred = self.step_solver(init_point)\n",
        "\n",
        "                predictions = torch.stack([pred[var] for var in self.outvar], dim=0)\n",
        "\n",
        "                # Compare numerical integration data with next data point\n",
        "                loss = self.criterion(predictions, data[0][ri + 1, :])\n",
        "\n",
        "                loss.backward(retain_graph=True)\n",
        "                optimizer.step()\n",
        "\n",
        "            if scheduler is not None:\n",
        "                lr_scheduler.step()\n",
        "\n",
        "            print(\"Epoch: \" + str(epoch) + \"\\t Loss: \" + str(loss))\n",
        "            print(self.coeffs)\n",
        "            # Testing to see that self.dnns changes\n",
        "            print(\"DNN(1)\", self.dnn(torch.Tensor([1.])))\n",
        "\n",
        "    def _step(self, batch, batch_idx, num_batches):\n",
        "        (x,) = batch\n",
        "        nt = x.shape[0]\n",
        "        pred = self(nt)\n",
        "        return self.criterion(pred, x)"
      ],
      "execution_count": 3,
      "outputs": []
    },
    {
      "cell_type": "code",
      "metadata": {
        "id": "vhzCXiGS7vcj"
      },
      "source": [
        "# Duffing equation: Second order ODE system\n",
        "dt = 0.01\n",
        "\n",
        "def x_prime(prev_val, coeffs, dnns):\n",
        "    return prev_val[\"x_\"]\n",
        "\n",
        "def x_prime_prime(prev_val, coeffs, dnns):\n",
        "    return 0.8*torch.cos(0.5*prev_val[\"t\"]) - coeffs[\"d\"]*prev_val[\"x_\"] - coeffs[\"a\"]*prev_val[\"x\"] - coeffs[\"b\"]*prev_val[\"x\"]*prev_val[\"x\"]*prev_val[\"x\"]\n",
        "\n",
        "def t_prime(prev_val, coeffs, dnns):\n",
        "    return 1\n",
        "\n",
        "ode = {\"x\": x_prime, \"x_\": x_prime_prime, \"t\": t_prime}\n",
        "\n",
        "# Initial conditions [0,0,0]\n",
        "ode_init = {\"x\": 0, \"x_\": 0, \"t\": 0}\n",
        "\n",
        "# Constants (Parameters)\n",
        "ode_coeffs = {\"a\": 0.1, \"b\": 0.5, \"d\": 0.2}"
      ],
      "execution_count": 4,
      "outputs": []
    },
    {
      "cell_type": "markdown",
      "metadata": {
        "id": "0-Om8KZe7zHS"
      },
      "source": [
        "# 4th Order Runge-Kutta - Data Generation for nt = 1000"
      ]
    },
    {
      "cell_type": "code",
      "metadata": {
        "id": "NwF7ddNl71cq"
      },
      "source": [
        "ode_solver = ODEDNNSolver(\n",
        "    ode=ode,\n",
        "    init_vars=ode_init,\n",
        "    init_coeffs=ode_coeffs,\n",
        "    dt=dt,\n",
        "    solver=\"rk4\"\n",
        ")\n",
        "\n",
        "result = ode_solver(1000)"
      ],
      "execution_count": 5,
      "outputs": []
    },
    {
      "cell_type": "code",
      "metadata": {
        "colab": {
          "base_uri": "https://localhost:8080/",
          "height": 265
        },
        "id": "UnDf8azV8W0p",
        "outputId": "6eca4784-0e7d-4537-95d8-94ec220d1156"
      },
      "source": [
        "result_np = result.detach().numpy() # Convert to numpy array\n",
        "\n",
        "# 2D plot of X and Z\n",
        "plt.plot(result_np[:,2], result_np[:,0])\n",
        "\n",
        "plt.show()"
      ],
      "execution_count": 6,
      "outputs": [
        {
          "output_type": "display_data",
          "data": {
            "image/png": "[encoded data removed]",
            "text/plain": [
              "<Figure size 432x288 with 1 Axes>"
            ]
          },
          "metadata": {
            "needs_background": "light"
          }
        }
      ]
    },
    {
      "cell_type": "markdown",
      "metadata": {
        "id": "ObTghBli7-no"
      },
      "source": [
        "# Euler's method for training"
      ]
    },
    {
      "cell_type": "code",
      "metadata": {
        "id": "87VAZZtR7-n1"
      },
      "source": [
        "def x_prime_prime_train(prev_val, coeffs, dnns):\n",
        "    return dnns(torch.Tensor([prev_val[\"t\"]]))[0] - coeffs[\"d\"]*prev_val[\"x_\"] - coeffs[\"a\"]*prev_val[\"x\"] - coeffs[\"b\"]*prev_val[\"x\"]*prev_val[\"x\"]*prev_val[\"x\"]\n"
      ],
      "execution_count": 7,
      "outputs": []
    },
    {
      "cell_type": "code",
      "metadata": {
        "id": "dTx1Q0PV7-n2"
      },
      "source": [
        "ode_train_coeffs = {\"a\": 0., \"b\": 0., \"d\": 0.}\n",
        "ode_train = {\"x\": x_prime, \"x_\": x_prime_prime_train, \"t\": t_prime}\n",
        "\n",
        "ode_solver_train = ODEDNNSolver(\n",
        "    ode=ode_train,\n",
        "    init_vars=ode_init,\n",
        "    init_coeffs=ode_train_coeffs,\n",
        "    dt=dt,\n",
        "    solver=\"rk4\"\n",
        ")"
      ],
      "execution_count": 8,
      "outputs": []
    },
    {
      "cell_type": "code",
      "metadata": {
        "colab": {
          "base_uri": "https://localhost:8080/"
        },
        "id": "67eN5ZyB7-n2",
        "outputId": "1588284b-d8f3-42ed-ff4e-0428b39394e8"
      },
      "source": [
        "ode_solver_train.fit_random_sample(\n",
        "    result,torch.optim.Adam,\n",
        "    {\"lr\": 0.02},\n",
        "    max_epochs=20,\n",
        "    scheduler=torch.optim.lr_scheduler.MultiStepLR,\n",
        "    scheduler_params={\"milestones\": [10],\"gamma\": 0.2}\n",
        ")"
      ],
      "execution_count": 9,
      "outputs": [
        {
          "output_type": "stream",
          "name": "stdout",
          "text": [
            "Epoch: 0\t Loss: tensor(6.2093e-06, grad_fn=<MseLossBackward>)\n",
            "{'a': Parameter containing:\n",
            "tensor(0.1419, requires_grad=True), 'b': Parameter containing:\n",
            "tensor(0.1420, requires_grad=True), 'd': Parameter containing:\n",
            "tensor(-0.0721, requires_grad=True)}\n",
            "DNN(1) tensor([0.2365], grad_fn=<TanhBackward>)\n",
            "Epoch: 1\t Loss: tensor(2.0705e-05, grad_fn=<MseLossBackward>)\n",
            "{'a': Parameter containing:\n",
            "tensor(0.2504, requires_grad=True), 'b': Parameter containing:\n",
            "tensor(0.2516, requires_grad=True), 'd': Parameter containing:\n",
            "tensor(-0.1099, requires_grad=True)}\n",
            "DNN(1) tensor([0.1373], grad_fn=<TanhBackward>)\n",
            "Epoch: 2\t Loss: tensor(2.1068e-05, grad_fn=<MseLossBackward>)\n",
            "{'a': Parameter containing:\n",
            "tensor(0.2731, requires_grad=True), 'b': Parameter containing:\n",
            "tensor(0.2960, requires_grad=True), 'd': Parameter containing:\n",
            "tensor(-0.1083, requires_grad=True)}\n",
            "DNN(1) tensor([0.2051], grad_fn=<TanhBackward>)\n",
            "Epoch: 3\t Loss: tensor(2.6809e-05, grad_fn=<MseLossBackward>)\n",
            "{'a': Parameter containing:\n",
            "tensor(0.2646, requires_grad=True), 'b': Parameter containing:\n",
            "tensor(0.3165, requires_grad=True), 'd': Parameter containing:\n",
            "tensor(-0.0769, requires_grad=True)}\n",
            "DNN(1) tensor([0.3410], grad_fn=<TanhBackward>)\n",
            "Epoch: 4\t Loss: tensor(2.4307e-05, grad_fn=<MseLossBackward>)\n",
            "{'a': Parameter containing:\n",
            "tensor(0.2557, requires_grad=True), 'b': Parameter containing:\n",
            "tensor(0.3321, requires_grad=True), 'd': Parameter containing:\n",
            "tensor(-0.0659, requires_grad=True)}\n",
            "DNN(1) tensor([0.2867], grad_fn=<TanhBackward>)\n",
            "Epoch: 5\t Loss: tensor(2.1748e-05, grad_fn=<MseLossBackward>)\n",
            "{'a': Parameter containing:\n",
            "tensor(0.2179, requires_grad=True), 'b': Parameter containing:\n",
            "tensor(0.3312, requires_grad=True), 'd': Parameter containing:\n",
            "tensor(-0.0237, requires_grad=True)}\n",
            "DNN(1) tensor([0.4414], grad_fn=<TanhBackward>)\n",
            "Epoch: 6\t Loss: tensor(2.6169e-05, grad_fn=<MseLossBackward>)\n",
            "{'a': Parameter containing:\n",
            "tensor(0.1903, requires_grad=True), 'b': Parameter containing:\n",
            "tensor(0.3348, requires_grad=True), 'd': Parameter containing:\n",
            "tensor(-0.0237, requires_grad=True)}\n",
            "DNN(1) tensor([0.3845], grad_fn=<TanhBackward>)\n",
            "Epoch: 7\t Loss: tensor(1.6772e-05, grad_fn=<MseLossBackward>)\n",
            "{'a': Parameter containing:\n",
            "tensor(0.1749, requires_grad=True), 'b': Parameter containing:\n",
            "tensor(0.3486, requires_grad=True), 'd': Parameter containing:\n",
            "tensor(-0.0295, requires_grad=True)}\n",
            "DNN(1) tensor([0.4565], grad_fn=<TanhBackward>)\n",
            "Epoch: 8\t Loss: tensor(3.1222e-05, grad_fn=<MseLossBackward>)\n",
            "{'a': Parameter containing:\n",
            "tensor(0.1566, requires_grad=True), 'b': Parameter containing:\n",
            "tensor(0.3485, requires_grad=True), 'd': Parameter containing:\n",
            "tensor(-0.0641, requires_grad=True)}\n",
            "DNN(1) tensor([0.2051], grad_fn=<TanhBackward>)\n",
            "Epoch: 9\t Loss: tensor(5.5046e-06, grad_fn=<MseLossBackward>)\n",
            "{'a': Parameter containing:\n",
            "tensor(0.1387, requires_grad=True), 'b': Parameter containing:\n",
            "tensor(0.3774, requires_grad=True), 'd': Parameter containing:\n",
            "tensor(-0.0270, requires_grad=True)}\n",
            "DNN(1) tensor([0.4718], grad_fn=<TanhBackward>)\n",
            "Epoch: 10\t Loss: tensor(8.6054e-06, grad_fn=<MseLossBackward>)\n",
            "{'a': Parameter containing:\n",
            "tensor(0.1340, requires_grad=True), 'b': Parameter containing:\n",
            "tensor(0.3802, requires_grad=True), 'd': Parameter containing:\n",
            "tensor(-0.0232, requires_grad=True)}\n",
            "DNN(1) tensor([0.4493], grad_fn=<TanhBackward>)\n",
            "Epoch: 11\t Loss: tensor(1.7816e-05, grad_fn=<MseLossBackward>)\n",
            "{'a': Parameter containing:\n",
            "tensor(0.1227, requires_grad=True), 'b': Parameter containing:\n",
            "tensor(0.3761, requires_grad=True), 'd': Parameter containing:\n",
            "tensor(-0.0155, requires_grad=True)}\n",
            "DNN(1) tensor([0.4175], grad_fn=<TanhBackward>)\n",
            "Epoch: 12\t Loss: tensor(1.5981e-05, grad_fn=<MseLossBackward>)\n",
            "{'a': Parameter containing:\n",
            "tensor(0.1157, requires_grad=True), 'b': Parameter containing:\n",
            "tensor(0.3760, requires_grad=True), 'd': Parameter containing:\n",
            "tensor(-0.0098, requires_grad=True)}\n",
            "DNN(1) tensor([0.4440], grad_fn=<TanhBackward>)\n",
            "Epoch: 13\t Loss: tensor(1.0512e-05, grad_fn=<MseLossBackward>)\n",
            "{'a': Parameter containing:\n",
            "tensor(0.1122, requires_grad=True), 'b': Parameter containing:\n",
            "tensor(0.3779, requires_grad=True), 'd': Parameter containing:\n",
            "tensor(-0.0064, requires_grad=True)}\n",
            "DNN(1) tensor([0.4677], grad_fn=<TanhBackward>)\n",
            "Epoch: 14\t Loss: tensor(1.4457e-05, grad_fn=<MseLossBackward>)\n",
            "{'a': Parameter containing:\n",
            "tensor(0.1096, requires_grad=True), 'b': Parameter containing:\n",
            "tensor(0.3788, requires_grad=True), 'd': Parameter containing:\n",
            "tensor(-0.0031, requires_grad=True)}\n",
            "DNN(1) tensor([0.4644], grad_fn=<TanhBackward>)\n",
            "Epoch: 15\t Loss: tensor(1.2071e-05, grad_fn=<MseLossBackward>)\n",
            "{'a': Parameter containing:\n",
            "tensor(0.1031, requires_grad=True), 'b': Parameter containing:\n",
            "tensor(0.3770, requires_grad=True), 'd': Parameter containing:\n",
            "tensor(0.0009, requires_grad=True)}\n",
            "DNN(1) tensor([0.4661], grad_fn=<TanhBackward>)\n",
            "Epoch: 16\t Loss: tensor(1.5328e-05, grad_fn=<MseLossBackward>)\n",
            "{'a': Parameter containing:\n",
            "tensor(0.0963, requires_grad=True), 'b': Parameter containing:\n",
            "tensor(0.3764, requires_grad=True), 'd': Parameter containing:\n",
            "tensor(0.0040, requires_grad=True)}\n",
            "DNN(1) tensor([0.4691], grad_fn=<TanhBackward>)\n",
            "Epoch: 17\t Loss: tensor(1.4537e-05, grad_fn=<MseLossBackward>)\n",
            "{'a': Parameter containing:\n",
            "tensor(0.0909, requires_grad=True), 'b': Parameter containing:\n",
            "tensor(0.3771, requires_grad=True), 'd': Parameter containing:\n",
            "tensor(0.0068, requires_grad=True)}\n",
            "DNN(1) tensor([0.4822], grad_fn=<TanhBackward>)\n",
            "Epoch: 18\t Loss: tensor(1.4585e-05, grad_fn=<MseLossBackward>)\n",
            "{'a': Parameter containing:\n",
            "tensor(0.0887, requires_grad=True), 'b': Parameter containing:\n",
            "tensor(0.3810, requires_grad=True), 'd': Parameter containing:\n",
            "tensor(0.0104, requires_grad=True)}\n",
            "DNN(1) tensor([0.4979], grad_fn=<TanhBackward>)\n",
            "Epoch: 19\t Loss: tensor(1.1779e-05, grad_fn=<MseLossBackward>)\n",
            "{'a': Parameter containing:\n",
            "tensor(0.0851, requires_grad=True), 'b': Parameter containing:\n",
            "tensor(0.3836, requires_grad=True), 'd': Parameter containing:\n",
            "tensor(0.0162, requires_grad=True)}\n",
            "DNN(1) tensor([0.5046], grad_fn=<TanhBackward>)\n"
          ]
        }
      ]
    },
    {
      "cell_type": "code",
      "metadata": {
        "colab": {
          "base_uri": "https://localhost:8080/",
          "height": 266
        },
        "id": "IOMjwKY27-n2",
        "outputId": "1e8218d2-8200-4b08-9ae5-ec7152cfe18d"
      },
      "source": [
        "result = ode_solver_train(1000)\n",
        "\n",
        "result_np = result.detach().numpy() # Convert to numpy array\n",
        "\n",
        "# 2D plot of X and Z\n",
        "plt.plot(result_np[:,2], result_np[:,0])\n",
        "\n",
        "plt.show()"
      ],
      "execution_count": 10,
      "outputs": [
        {
          "output_type": "display_data",
          "data": {
            "image/png": "[encoded data removed]",
            "text/plain": [
              "<Figure size 432x288 with 1 Axes>"
            ]
          },
          "metadata": {
            "needs_background": "light"
          }
        }
      ]
    },
    {
      "cell_type": "markdown",
      "metadata": {
        "id": "9adPvysOrfMr"
      },
      "source": [
        "# Mean Squared Error Loss"
      ]
    },
    {
      "cell_type": "code",
      "metadata": {
        "id": "kwktnR93ripb"
      },
      "source": [
        "ode_solver = ODEDNNSolver(\n",
        "    ode=ode,\n",
        "    init_vars=ode_init,\n",
        "    init_coeffs=ode_coeffs,\n",
        "    dt=dt,\n",
        "    solver=\"rk4\"\n",
        ")\n",
        "\n",
        "result_train = ode_solver(1000)"
      ],
      "execution_count": 11,
      "outputs": []
    },
    {
      "cell_type": "code",
      "metadata": {
        "colab": {
          "base_uri": "https://localhost:8080/"
        },
        "id": "aVYankyRrwoW",
        "outputId": "bc16f6f1-c234-44cb-c9e6-ce0b4f5e8f45"
      },
      "source": [
        "loss = torch.nn.MSELoss()\n",
        "loss(result_train,result)"
      ],
      "execution_count": 12,
      "outputs": [
        {
          "output_type": "execute_result",
          "data": {
            "text/plain": [
              "tensor(0.0529, grad_fn=<MseLossBackward>)"
            ]
          },
          "metadata": {},
          "execution_count": 12
        }
      ]
    }
  ]
}