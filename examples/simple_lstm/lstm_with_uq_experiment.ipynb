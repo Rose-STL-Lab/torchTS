{
 "cells": [
  {
   "cell_type": "code",
   "execution_count": 6,
   "metadata": {},
   "outputs": [],
   "source": [
    "import torch\n",
    "import numpy as np\n",
    "import matplotlib.pyplot as plt\n",
    "\n",
    "from torchts.nn.loss import quantile_loss\n",
    "from torchts.nn.model import TimeSeriesModel\n",
    "from torchts.nn.models.seq2seq import Encoder, Decoder, Seq2Seq "
   ]
  },
  {
   "cell_type": "markdown",
   "metadata": {},
   "source": [
    "# Generate dataset"
   ]
  },
  {
   "cell_type": "code",
   "execution_count": 2,
   "metadata": {},
   "outputs": [
    {
     "data": {
      "image/png": "[encoded data removed]",
      "text/plain": [
       "<Figure size 432x288 with 1 Axes>"
      ]
     },
     "metadata": {
      "needs_background": "light"
     },
     "output_type": "display_data"
    }
   ],
   "source": [
    "# generate linear time series data with some noise\n",
    "x = np.linspace(-10,10,100).reshape(-1,1).astype(np.float32)\n",
    "y = 2*x+1 + np.random.normal(0, 2, x.shape).reshape(-1,1).astype(np.float32)\n",
    "plt.plot(x.flatten(), y.flatten())\n",
    "plt.show()"
   ]
  },
  {
   "cell_type": "code",
   "execution_count": 3,
   "metadata": {},
   "outputs": [],
   "source": [
    "x = x[..., np.newaxis]\n",
    "y = y[..., np.newaxis]"
   ]
  },
  {
   "cell_type": "markdown",
   "metadata": {},
   "source": [
    "# Build a LSTM model"
   ]
  },
  {
   "cell_type": "code",
   "execution_count": 3,
   "metadata": {},
   "outputs": [],
   "source": [
    "class LSTM(TimeSeriesModel):\n",
    "    def __init__(self, input_size, output_size, optimizer, hidden_size=8, batch_size=10, **kwargs):\n",
    "        super(LSTM, self).__init__(optimizer, **kwargs)\n",
    "        self.hidden_size = hidden_size\n",
    "        self.batch_size = batch_size\n",
    "\n",
    "        self.lstm = torch.nn.LSTMCell(input_size, hidden_size)\n",
    "        self.linear = torch.nn.Linear(hidden_size, output_size)\n",
    "\n",
    "    def init_hidden(self):\n",
    "        # initialize the hidden state and the cell state to zeros\n",
    "        return (torch.zeros(self.batch_size, self.hidden_size),\n",
    "                torch.zeros(self.batch_size, self.hidden_size))\n",
    "\n",
    "    def forward(self, x, y=None, batches_seen=None):\n",
    "        hc = self.init_hidden()\n",
    "        \n",
    "        hidden, _ = self.lstm(x, hc)\n",
    "        out = self.linear(hidden)\n",
    "        return out"
   ]
  },
  {
   "cell_type": "markdown",
   "metadata": {},
   "source": [
    "# Seq2Seq"
   ]
  },
  {
   "cell_type": "code",
   "execution_count": 4,
   "metadata": {},
   "outputs": [],
   "source": [
    "# define hyper-parameters\n",
    "dropout_rate = 0.8\n",
    "num_layers = 1\n",
    "hidden_dim = 32\n",
    "input_dim = 1\n",
    "output_dim = 1\n",
    "horizon = 20\n",
    "batch_size = 64\n",
    "\n",
    "# uncertainty quantification\n",
    "quantiles = [0.025, 0.5, 0.975]"
   ]
  },
  {
   "cell_type": "code",
   "execution_count": 7,
   "metadata": {},
   "outputs": [],
   "source": [
    "# instantiate seq2seq model\n",
    "models = {}\n",
    "for quantile in quantiles:\n",
    "    encoder = Encoder(input_dim, hidden_dim, num_layers, dropout_rate)\n",
    "    decoder = Decoder(output_dim, hidden_dim, num_layers, dropout_rate)\n",
    "\n",
    "    models[quantile] = Seq2Seq(\n",
    "        encoder, \n",
    "        decoder, \n",
    "        output_dim, \n",
    "        horizon,\n",
    "        optimizer=torch.optim.Adam,\n",
    "        criterion=quantile_loss,\n",
    "        criterion_args={\"quantile\": quantile}\n",
    "    )"
   ]
  },
  {
   "cell_type": "code",
   "execution_count": 8,
   "metadata": {},
   "outputs": [
    {
     "name": "stderr",
     "output_type": "stream",
     "text": [
      "GPU available: False, used: False\n",
      "TPU available: False, using: 0 TPU cores\n",
      "IPU available: False, using: 0 IPUs\n",
      "/Users/kailing/Documents/GitHub/DSC/dsc_180a/torchTS/venv/lib/python3.8/site-packages/pytorch_lightning/trainer/configuration_validator.py:101: UserWarning: you defined a validation_step but have no val_dataloader. Skipping val loop\n",
      "  rank_zero_warn(f\"you defined a {step_name} but have no {loader_name}. Skipping {stage} loop\")\n",
      "\n",
      "  | Name    | Type    | Params\n",
      "------------------------------------\n",
      "0 | encoder | Encoder | 9.0 K \n",
      "1 | decoder | Decoder | 17.2 K\n",
      "------------------------------------\n",
      "26.2 K    Trainable params\n",
      "0         Non-trainable params\n",
      "26.2 K    Total params\n",
      "0.105     Total estimated model params size (MB)\n"
     ]
    },
    {
     "name": "stdout",
     "output_type": "stream",
     "text": [
      "Epoch 1: 100%|██████████| 2/2 [00:00<00:00, 61.86it/s, loss=4.71, v_num=97, train_loss_step=4.350, train_loss_epoch=4.700]"
     ]
    },
    {
     "name": "stderr",
     "output_type": "stream",
     "text": [
      "/Users/kailing/Documents/GitHub/DSC/dsc_180a/torchTS/venv/lib/python3.8/site-packages/pytorch_lightning/trainer/data_loading.py:105: UserWarning: The dataloader, train dataloader, does not have many workers which may be a bottleneck. Consider increasing the value of the `num_workers` argument` (try 8 which is the number of cpus on this machine) in the `DataLoader` init to improve performance.\n",
      "  rank_zero_warn(\n",
      "/Users/kailing/Documents/GitHub/DSC/dsc_180a/torchTS/venv/lib/python3.8/site-packages/pytorch_lightning/trainer/data_loading.py:322: UserWarning: The number of training samples (2) is smaller than the logging interval Trainer(log_every_n_steps=50). Set a lower value for log_every_n_steps if you want to see logs for the training epoch.\n",
      "  rank_zero_warn(\n"
     ]
    },
    {
     "name": "stdout",
     "output_type": "stream",
     "text": [
      "Epoch 299: 100%|██████████| 2/2 [00:00<00:00, 25.24it/s, loss=0.287, v_num=97, train_loss_step=0.283, train_loss_epoch=0.283]"
     ]
    },
    {
     "name": "stderr",
     "output_type": "stream",
     "text": [
      "GPU available: False, used: False\n",
      "TPU available: False, using: 0 TPU cores\n",
      "IPU available: False, using: 0 IPUs\n"
     ]
    },
    {
     "name": "stdout",
     "output_type": "stream",
     "text": [
      "\n"
     ]
    },
    {
     "name": "stderr",
     "output_type": "stream",
     "text": [
      "\n",
      "  | Name    | Type    | Params\n",
      "------------------------------------\n",
      "0 | encoder | Encoder | 9.0 K \n",
      "1 | decoder | Decoder | 17.2 K\n",
      "------------------------------------\n",
      "26.2 K    Trainable params\n",
      "0         Non-trainable params\n",
      "26.2 K    Total params\n",
      "0.105     Total estimated model params size (MB)\n"
     ]
    },
    {
     "name": "stdout",
     "output_type": "stream",
     "text": [
      "Epoch 299: 100%|██████████| 2/2 [00:00<00:00, 47.49it/s, loss=0.776, v_num=98, train_loss_step=0.789, train_loss_epoch=0.752]"
     ]
    },
    {
     "name": "stderr",
     "output_type": "stream",
     "text": [
      "GPU available: False, used: False\n",
      "TPU available: False, using: 0 TPU cores\n",
      "IPU available: False, using: 0 IPUs\n"
     ]
    },
    {
     "name": "stdout",
     "output_type": "stream",
     "text": [
      "\n"
     ]
    },
    {
     "name": "stderr",
     "output_type": "stream",
     "text": [
      "\n",
      "  | Name    | Type    | Params\n",
      "------------------------------------\n",
      "0 | encoder | Encoder | 9.0 K \n",
      "1 | decoder | Decoder | 17.2 K\n",
      "------------------------------------\n",
      "26.2 K    Trainable params\n",
      "0         Non-trainable params\n",
      "26.2 K    Total params\n",
      "0.105     Total estimated model params size (MB)\n"
     ]
    },
    {
     "name": "stdout",
     "output_type": "stream",
     "text": [
      "Epoch 299: 100%|██████████| 2/2 [00:00<00:00, 33.09it/s, loss=0.289, v_num=99, train_loss_step=0.245, train_loss_epoch=0.295]\n"
     ]
    }
   ],
   "source": [
    "# train model\n",
    "for _, model in models.items():\n",
    "    model.fit(\n",
    "        torch.from_numpy(x),\n",
    "        torch.from_numpy(y),\n",
    "        max_epochs=300,\n",
    "        batch_size=batch_size,\n",
    "    )"
   ]
  },
  {
   "cell_type": "code",
   "execution_count": 12,
   "metadata": {},
   "outputs": [
    {
     "data": {
      "text/plain": [
       "torch.Size([100, 20, 1])"
      ]
     },
     "execution_count": 12,
     "metadata": {},
     "output_type": "execute_result"
    }
   ],
   "source": [
    "models[0.025](torch.from_numpy(x))"
   ]
  },
  {
   "cell_type": "code",
   "execution_count": 13,
   "metadata": {},
   "outputs": [],
   "source": [
    "# inference\n",
    "y_preds = {}\n",
    "for q, model in models.items():\n",
    "    y_preds[q] = model(torch.from_numpy(x)).detach().numpy()"
   ]
  },
  {
   "cell_type": "code",
   "execution_count": 14,
   "metadata": {},
   "outputs": [
    {
     "data": {
      "image/png": "[encoded data removed]",
      "text/plain": [
       "<Figure size 432x288 with 1 Axes>"
      ]
     },
     "metadata": {
      "needs_background": "light"
     },
     "output_type": "display_data"
    }
   ],
   "source": [
    "plt.plot(x[-horizon:].flatten(), y_preds[0.025][-horizon].flatten(), label=\"p=0.025\")\n",
    "plt.plot(x[-horizon:].flatten(), y_preds[0.5][-horizon].flatten(), label=\"p=0.5\")\n",
    "plt.plot(x[-horizon:].flatten(), y_preds[0.975][-horizon].flatten(), label=\"p=0.975\")\n",
    "plt.plot(x.flatten(), y.flatten(), label=\"y_true\")\n",
    "plt.legend()\n",
    "plt.show()"
   ]
  },
  {
   "cell_type": "markdown",
   "metadata": {},
   "source": [
    "# Enable uncertainty quantification in LSTM model"
   ]
  },
  {
   "cell_type": "code",
   "execution_count": 6,
   "metadata": {},
   "outputs": [],
   "source": [
    "import torch\n",
    "\n",
    "from torchts.nn.loss import quantile_loss"
   ]
  },
  {
   "cell_type": "code",
   "execution_count": 9,
   "metadata": {},
   "outputs": [],
   "source": [
    "inputDim = 1       \n",
    "outputDim = 1 \n",
    "optimizer_args = {\"lr\": 0.01}\n",
    "quantiles = [0.025, 0.5, 0.975]\n",
    "\n",
    "batch_size = 10\n",
    "models = {quantile: LSTM(\n",
    "    inputDim, \n",
    "    outputDim, \n",
    "    torch.optim.Adam,\n",
    "    criterion=quantile_loss, \n",
    "    criterion_args={\"quantile\": quantile}, \n",
    "    optimizer_args=optimizer_args\n",
    "    ) for quantile in quantiles}"
   ]
  },
  {
   "cell_type": "code",
   "execution_count": 10,
   "metadata": {},
   "outputs": [
    {
     "name": "stderr",
     "output_type": "stream",
     "text": [
      "GPU available: False, used: False\n",
      "TPU available: False, using: 0 TPU cores\n",
      "IPU available: False, using: 0 IPUs\n",
      "/Users/kailing/Documents/GitHub/DSC/dsc_180a/torchTS/venv/lib/python3.8/site-packages/pytorch_lightning/trainer/configuration_validator.py:101: UserWarning: you defined a validation_step but have no val_dataloader. Skipping val loop\n",
      "  rank_zero_warn(f\"you defined a {step_name} but have no {loader_name}. Skipping {stage} loop\")\n",
      "\n",
      "  | Name   | Type     | Params\n",
      "------------------------------------\n",
      "0 | lstm   | LSTMCell | 352   \n",
      "1 | linear | Linear   | 9     \n",
      "------------------------------------\n",
      "361       Trainable params\n",
      "0         Non-trainable params\n",
      "361       Total params\n",
      "0.001     Total estimated model params size (MB)\n"
     ]
    },
    {
     "name": "stdout",
     "output_type": "stream",
     "text": [
      "Epoch 0:   0%|          | 0/10 [00:00<00:00, 459.70it/s]  "
     ]
    },
    {
     "name": "stderr",
     "output_type": "stream",
     "text": [
      "/Users/kailing/Documents/GitHub/DSC/dsc_180a/torchTS/venv/lib/python3.8/site-packages/pytorch_lightning/trainer/data_loading.py:105: UserWarning: The dataloader, train dataloader, does not have many workers which may be a bottleneck. Consider increasing the value of the `num_workers` argument` (try 8 which is the number of cpus on this machine) in the `DataLoader` init to improve performance.\n",
      "  rank_zero_warn(\n",
      "/Users/kailing/Documents/GitHub/DSC/dsc_180a/torchTS/venv/lib/python3.8/site-packages/pytorch_lightning/trainer/data_loading.py:322: UserWarning: The number of training samples (10) is smaller than the logging interval Trainer(log_every_n_steps=50). Set a lower value for log_every_n_steps if you want to see logs for the training epoch.\n",
      "  rank_zero_warn(\n"
     ]
    },
    {
     "name": "stdout",
     "output_type": "stream",
     "text": [
      "Epoch 99: 100%|██████████| 10/10 [00:00<00:00, 172.89it/s, loss=0.123, v_num=87, train_loss_step=0.181, train_loss_epoch=0.124]\n"
     ]
    },
    {
     "name": "stderr",
     "output_type": "stream",
     "text": [
      "GPU available: False, used: False\n",
      "TPU available: False, using: 0 TPU cores\n",
      "IPU available: False, using: 0 IPUs\n",
      "\n",
      "  | Name   | Type     | Params\n",
      "------------------------------------\n",
      "0 | lstm   | LSTMCell | 352   \n",
      "1 | linear | Linear   | 9     \n",
      "------------------------------------\n",
      "361       Trainable params\n",
      "0         Non-trainable params\n",
      "361       Total params\n",
      "0.001     Total estimated model params size (MB)\n"
     ]
    },
    {
     "name": "stdout",
     "output_type": "stream",
     "text": [
      "Epoch 99: 100%|██████████| 10/10 [00:00<00:00, 92.43it/s, loss=0.811, v_num=88, train_loss_step=0.886, train_loss_epoch=0.801] \n"
     ]
    },
    {
     "name": "stderr",
     "output_type": "stream",
     "text": [
      "GPU available: False, used: False\n",
      "TPU available: False, using: 0 TPU cores\n",
      "IPU available: False, using: 0 IPUs\n",
      "\n",
      "  | Name   | Type     | Params\n",
      "------------------------------------\n",
      "0 | lstm   | LSTMCell | 352   \n",
      "1 | linear | Linear   | 9     \n",
      "------------------------------------\n",
      "361       Trainable params\n",
      "0         Non-trainable params\n",
      "361       Total params\n",
      "0.001     Total estimated model params size (MB)\n"
     ]
    },
    {
     "name": "stdout",
     "output_type": "stream",
     "text": [
      "Epoch 99: 100%|██████████| 10/10 [00:00<00:00, 124.69it/s, loss=0.126, v_num=89, train_loss_step=0.123, train_loss_epoch=0.129]\n"
     ]
    }
   ],
   "source": [
    "for _, model in models.items():\n",
    "    # train model\n",
    "    model.fit(\n",
    "        torch.from_numpy(x),\n",
    "        torch.from_numpy(y),\n",
    "        max_epochs=100,\n",
    "        batch_size=batch_size,\n",
    "    )"
   ]
  },
  {
   "cell_type": "code",
   "execution_count": 14,
   "metadata": {},
   "outputs": [],
   "source": [
    "# inference\n",
    "y_preds = {}\n",
    "for x_batch in torch.split(torch.from_numpy(x), batch_size):\n",
    "    for q, model in models.items():\n",
    "        if q not in y_preds:\n",
    "            y_preds[q] = [model.predict(x_batch).detach().numpy()]\n",
    "        else:\n",
    "            y_preds[q].append(model.predict(x_batch).detach().numpy())\n",
    "y_preds = {q: np.concatenate(y_pred) for q, y_pred in y_preds.items()}"
   ]
  },
  {
   "cell_type": "code",
   "execution_count": 15,
   "metadata": {},
   "outputs": [
    {
     "data": {
      "image/png": "[encoded data removed]",
      "text/plain": [
       "<Figure size 432x288 with 1 Axes>"
      ]
     },
     "metadata": {
      "needs_background": "light"
     },
     "output_type": "display_data"
    }
   ],
   "source": [
    "plt.plot(x.flatten(), y_preds[0.025].flatten(), label=\"p=0.025\")\n",
    "plt.plot(x.flatten(), y_preds[0.5].flatten(), label=\"p=0.5\")\n",
    "plt.plot(x.flatten(), y_preds[0.975].flatten(), label=\"p=0.975\")\n",
    "plt.plot(x.flatten(), y.flatten(), label=\"y_true\")\n",
    "plt.legend()\n",
    "plt.show()"
   ]
  },
  {
   "cell_type": "code",
   "execution_count": null,
   "metadata": {},
   "outputs": [],
   "source": []
  }
 ],
 "metadata": {
  "interpreter": {
   "hash": "6a69466490a3cd78f8127aa86c71c97a1b8be0ac73f00bec705cc872d22503a4"
  },
  "kernelspec": {
   "display_name": "Python 3.8.2 64-bit ('venv': venv)",
   "language": "python",
   "name": "python3"
  },
  "language_info": {
   "codemirror_mode": {
    "name": "ipython",
    "version": 3
   },
   "file_extension": ".py",
   "mimetype": "text/x-python",
   "name": "python",
   "nbconvert_exporter": "python",
   "pygments_lexer": "ipython3",
   "version": "3.8.2"
  },
  "orig_nbformat": 4
 },
 "nbformat": 4,
 "nbformat_minor": 2
}
